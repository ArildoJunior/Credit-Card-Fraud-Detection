{
 "cells": [
  {
   "cell_type": "code",
   "execution_count": 1,
   "metadata": {},
   "outputs": [
    {
     "name": "stdout",
     "output_type": "stream",
     "text": [
      "Requirement already satisfied: MySQL-connector-python in /home/paula/anaconda3/lib/python3.8/site-packages (8.0.29)\r\n",
      "Requirement already satisfied: protobuf>=3.0.0 in /home/paula/anaconda3/lib/python3.8/site-packages (from MySQL-connector-python) (4.21.2)\r\n"
     ]
    }
   ],
   "source": [
    "!pip3 install MySQL-connector-python\n",
    "import pandas as pd\n",
    "import mysql.connector"
   ]
  },
  {
   "cell_type": "code",
   "execution_count": 3,
   "metadata": {},
   "outputs": [],
   "source": [
    "df = pd.read_csv(\"./data/creditcard.csv\",header=0)"
   ]
  },
  {
   "cell_type": "code",
   "execution_count": null,
   "metadata": {},
   "outputs": [],
   "source": [
    "db = mysql.connector.connect(\n",
    "    host=\"localhost\",\n",
    "    user=\"root\",\n",
    "    passwd=\"stack\",\n",
    "    database=\"fraud\"\n",
    ")\n",
    "# getting the cursor by cursor() method\n",
    "mycursor = db.cursor()"
   ]
  },
  {
   "cell_type": "code",
   "execution_count": null,
   "metadata": {},
   "outputs": [],
   "source": [
    "df.head()"
   ]
  },
  {
   "cell_type": "code",
   "execution_count": null,
   "metadata": {},
   "outputs": [],
   "source": [
    "sql= \"INSERT INTO creditcard (ctime, v1,v2,v3,v4,v5,v6,v7,v8,v9,v10,v11,v12,v13,v14,v15,v16,v17,v18,v19,v20,v21,v22,v23,v24,v25,v26,v27,v28,amount,class) VALUES (%s,%s,%s,%s,%s,%s,%s,%s,%s,%s,%s,%s,%s,%s,%s,%s,%s,%s,%s,%s,%s,%s,%s,%s,%s,%s,%s,%s,%s,%s,%s)\"\n",
    "for index, row in df.iterrows():\n",
    "    val=(row['Time'], row['V1'],row['V2'],row['V3'],row['V4'],row['V5'],row['V6'],row['V7'],row['V8'],row['V9'],row['V10'],row['V11'],row['V12'],row['V13'],row['V14'],row['V15'],row['V16'],row['V17'],row['V18'],row['V19'],row['V20'],row['V21'],row['V22'],row['V23'],row['V24'],row['V25'],row['V26'],row['V27'],row['V28'],row['Amount'],row['Class'])\n",
    "    mycursor.execute(sql, val)\n",
    "db.commit()\n",
    "\n",
    "print(mycursor.rowcount, \"record inserted.\")"
   ]
  }
 ],
 "metadata": {
  "kernelspec": {
   "display_name": "Python 3",
   "language": "python",
   "name": "python3"
  },
  "language_info": {
   "codemirror_mode": {
    "name": "ipython",
    "version": 3
   },
   "file_extension": ".py",
   "mimetype": "text/x-python",
   "name": "python",
   "nbconvert_exporter": "python",
   "pygments_lexer": "ipython3",
   "version": "3.8.5"
  }
 },
 "nbformat": 4,
 "nbformat_minor": 4
}
